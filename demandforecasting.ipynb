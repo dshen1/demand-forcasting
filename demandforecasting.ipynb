{
 "cells": [
  {
   "cell_type": "markdown",
   "metadata": {},
   "source": [
    "## Problem Statement\n",
    "\n",
    "Your client is a meal delivery company which operates in multiple cities. They have various fulfillment centers in these cities for dispatching meal orders to their customers. The client wants you to help these centers with demand forecasting for upcoming weeks so that these centers will plan the stock of raw materials accordingly.\n",
    "\n",
    "The replenishment of majority of raw materials is done on weekly basis and since the raw material is perishable, the procurement planning is of utmost importance. Secondly, staffing of the centers is also one area wherein accurate demand forecasts are really helpful. Given the following information, the task is to predict the demand for the next 10 weeks (Weeks: 146-155) for the center-meal combinations in the test set:\n",
    " \n",
    "\n",
    "Historical data of demand for a product-center combination (Weeks: 1 to 145)\n",
    "Product(Meal) features such as category, sub-category, current price and discount\n",
    "Information for fulfillment center like center area, city information etc."
   ]
  },
  {
   "cell_type": "markdown",
   "metadata": {},
   "source": [
    "### Data Dictionary\n",
    "\n",
    "Weekly Demand data (train.csv): Contains the historical demand data for all centers, test.csv contains all the following features except the target variable\n",
    " \n",
    "Variable|\tDefinition\n",
    "---| ---\n",
    "id|\tUnique ID\n",
    "week|\tWeek No\n",
    "center_id|\tUnique ID for fulfillment center\n",
    "meal_id|\tUnique ID for Meal\n",
    "checkout_price|\tFinal price including discount, taxes & delivery charges\n",
    "base_price|\tBase price of the meal\n",
    "emailer_for_promotion|\tEmailer sent for promotion of meal\n",
    "homepage_featured|\tMeal featured at homepage\n",
    "num_orders|\t(Target) Orders Count\n",
    "\n",
    "fulfilment_center_info.csv: Contains information for each fulfilment center\n",
    " \n",
    "Variable|\tDefinition\n",
    "---| ---\n",
    "center_id|\tUnique ID for fulfillment center\n",
    "city_code|\tUnique code for city\n",
    "region_code|\tUnique code for region\n",
    "center_type|\tAnonymized center type\n",
    "op_area|\tArea of operation (in km^2)\n",
    "\n",
    "meal_info.csv: Contains information for each meal being served\n",
    " \n",
    "Variable|\tDefinition\n",
    "---| ---\n",
    "meal_id|\tUnique ID for the meal\n",
    "category|\tType of meal (beverages/snacks/soups….)\n",
    "cuisine|\tMeal cuisine (Indian/Italian/…)  "
   ]
  },
  {
   "cell_type": "code",
   "execution_count": 2,
   "metadata": {},
   "outputs": [],
   "source": [
    "import pandas as pd\n",
    "import numpy as np\n",
    "import seaborn as sns\n",
    "import matplotlib.pyplot as plt\n",
    "import datetime\n",
    "import math\n",
    "\n",
    "%matplotlib inline\n",
    "sns.set(style='white', context='notebook', palette='deep')\n",
    "\n",
    "import warnings\n",
    "warnings.filterwarnings(\"ignore\")\n",
    "\n",
    "from sklearn.preprocessing import LabelEncoder\n",
    "from sklearn.preprocessing import StandardScaler\n",
    "from sklearn.preprocessing import OneHotEncoder\n",
    "\n",
    "from sklearn.linear_model import ElasticNet, Lasso,  BayesianRidge, LassoLarsIC\n",
    "from sklearn.ensemble import RandomForestRegressor,  GradientBoostingRegressor\n",
    "from sklearn.kernel_ridge import KernelRidge\n",
    "from sklearn.pipeline import make_pipeline\n",
    "from sklearn.preprocessing import RobustScaler\n",
    "from sklearn.base import BaseEstimator, TransformerMixin, RegressorMixin, clone\n",
    "from sklearn.model_selection import KFold, cross_val_score, train_test_split\n",
    "from sklearn.metrics import mean_squared_error\n",
    "import xgboost as xgb\n",
    "import lightgbm as lgb\n",
    "\n",
    "from scipy import stats\n",
    "from scipy.stats import norm, skew\n"
   ]
  },
  {
   "cell_type": "code",
   "execution_count": 3,
   "metadata": {},
   "outputs": [],
   "source": [
    "train = pd.read_csv('train.csv')\n",
    "test = pd.read_csv('test_QoiMO9B.csv')\n",
    "center_info = pd.read_csv('fulfilment_center_info.csv')\n",
    "meal_info = pd.read_csv('meal_info.csv')"
   ]
  },
  {
   "cell_type": "code",
   "execution_count": 4,
   "metadata": {},
   "outputs": [
    {
     "data": {
      "text/plain": [
       "(456548, 9)"
      ]
     },
     "execution_count": 4,
     "metadata": {},
     "output_type": "execute_result"
    }
   ],
   "source": [
    "train.shape"
   ]
  },
  {
   "cell_type": "code",
   "execution_count": 5,
   "metadata": {},
   "outputs": [
    {
     "data": {
      "text/plain": [
       "(32573, 8)"
      ]
     },
     "execution_count": 5,
     "metadata": {},
     "output_type": "execute_result"
    }
   ],
   "source": [
    "test.shape"
   ]
  },
  {
   "cell_type": "code",
   "execution_count": 6,
   "metadata": {},
   "outputs": [
    {
     "data": {
      "text/html": [
       "<div>\n",
       "<style scoped>\n",
       "    .dataframe tbody tr th:only-of-type {\n",
       "        vertical-align: middle;\n",
       "    }\n",
       "\n",
       "    .dataframe tbody tr th {\n",
       "        vertical-align: top;\n",
       "    }\n",
       "\n",
       "    .dataframe thead th {\n",
       "        text-align: right;\n",
       "    }\n",
       "</style>\n",
       "<table border=\"1\" class=\"dataframe\">\n",
       "  <thead>\n",
       "    <tr style=\"text-align: right;\">\n",
       "      <th></th>\n",
       "      <th>id</th>\n",
       "      <th>week</th>\n",
       "      <th>center_id</th>\n",
       "      <th>meal_id</th>\n",
       "      <th>checkout_price</th>\n",
       "      <th>base_price</th>\n",
       "      <th>emailer_for_promotion</th>\n",
       "      <th>homepage_featured</th>\n",
       "      <th>num_orders</th>\n",
       "    </tr>\n",
       "  </thead>\n",
       "  <tbody>\n",
       "    <tr>\n",
       "      <th>0</th>\n",
       "      <td>1379560</td>\n",
       "      <td>1</td>\n",
       "      <td>55</td>\n",
       "      <td>1885</td>\n",
       "      <td>136.83</td>\n",
       "      <td>152.29</td>\n",
       "      <td>0</td>\n",
       "      <td>0</td>\n",
       "      <td>177</td>\n",
       "    </tr>\n",
       "    <tr>\n",
       "      <th>1</th>\n",
       "      <td>1466964</td>\n",
       "      <td>1</td>\n",
       "      <td>55</td>\n",
       "      <td>1993</td>\n",
       "      <td>136.83</td>\n",
       "      <td>135.83</td>\n",
       "      <td>0</td>\n",
       "      <td>0</td>\n",
       "      <td>270</td>\n",
       "    </tr>\n",
       "    <tr>\n",
       "      <th>2</th>\n",
       "      <td>1346989</td>\n",
       "      <td>1</td>\n",
       "      <td>55</td>\n",
       "      <td>2539</td>\n",
       "      <td>134.86</td>\n",
       "      <td>135.86</td>\n",
       "      <td>0</td>\n",
       "      <td>0</td>\n",
       "      <td>189</td>\n",
       "    </tr>\n",
       "    <tr>\n",
       "      <th>3</th>\n",
       "      <td>1338232</td>\n",
       "      <td>1</td>\n",
       "      <td>55</td>\n",
       "      <td>2139</td>\n",
       "      <td>339.50</td>\n",
       "      <td>437.53</td>\n",
       "      <td>0</td>\n",
       "      <td>0</td>\n",
       "      <td>54</td>\n",
       "    </tr>\n",
       "    <tr>\n",
       "      <th>4</th>\n",
       "      <td>1448490</td>\n",
       "      <td>1</td>\n",
       "      <td>55</td>\n",
       "      <td>2631</td>\n",
       "      <td>243.50</td>\n",
       "      <td>242.50</td>\n",
       "      <td>0</td>\n",
       "      <td>0</td>\n",
       "      <td>40</td>\n",
       "    </tr>\n",
       "  </tbody>\n",
       "</table>\n",
       "</div>"
      ],
      "text/plain": [
       "        id  week  center_id  meal_id  checkout_price  base_price  \\\n",
       "0  1379560     1         55     1885          136.83      152.29   \n",
       "1  1466964     1         55     1993          136.83      135.83   \n",
       "2  1346989     1         55     2539          134.86      135.86   \n",
       "3  1338232     1         55     2139          339.50      437.53   \n",
       "4  1448490     1         55     2631          243.50      242.50   \n",
       "\n",
       "   emailer_for_promotion  homepage_featured  num_orders  \n",
       "0                      0                  0         177  \n",
       "1                      0                  0         270  \n",
       "2                      0                  0         189  \n",
       "3                      0                  0          54  \n",
       "4                      0                  0          40  "
      ]
     },
     "execution_count": 6,
     "metadata": {},
     "output_type": "execute_result"
    }
   ],
   "source": [
    "train.head()"
   ]
  },
  {
   "cell_type": "code",
   "execution_count": 7,
   "metadata": {},
   "outputs": [
    {
     "data": {
      "text/html": [
       "<div>\n",
       "<style scoped>\n",
       "    .dataframe tbody tr th:only-of-type {\n",
       "        vertical-align: middle;\n",
       "    }\n",
       "\n",
       "    .dataframe tbody tr th {\n",
       "        vertical-align: top;\n",
       "    }\n",
       "\n",
       "    .dataframe thead th {\n",
       "        text-align: right;\n",
       "    }\n",
       "</style>\n",
       "<table border=\"1\" class=\"dataframe\">\n",
       "  <thead>\n",
       "    <tr style=\"text-align: right;\">\n",
       "      <th></th>\n",
       "      <th>center_id</th>\n",
       "      <th>city_code</th>\n",
       "      <th>region_code</th>\n",
       "      <th>center_type</th>\n",
       "      <th>op_area</th>\n",
       "    </tr>\n",
       "  </thead>\n",
       "  <tbody>\n",
       "    <tr>\n",
       "      <th>0</th>\n",
       "      <td>11</td>\n",
       "      <td>679</td>\n",
       "      <td>56</td>\n",
       "      <td>TYPE_A</td>\n",
       "      <td>3.7</td>\n",
       "    </tr>\n",
       "    <tr>\n",
       "      <th>1</th>\n",
       "      <td>13</td>\n",
       "      <td>590</td>\n",
       "      <td>56</td>\n",
       "      <td>TYPE_B</td>\n",
       "      <td>6.7</td>\n",
       "    </tr>\n",
       "    <tr>\n",
       "      <th>2</th>\n",
       "      <td>124</td>\n",
       "      <td>590</td>\n",
       "      <td>56</td>\n",
       "      <td>TYPE_C</td>\n",
       "      <td>4.0</td>\n",
       "    </tr>\n",
       "    <tr>\n",
       "      <th>3</th>\n",
       "      <td>66</td>\n",
       "      <td>648</td>\n",
       "      <td>34</td>\n",
       "      <td>TYPE_A</td>\n",
       "      <td>4.1</td>\n",
       "    </tr>\n",
       "    <tr>\n",
       "      <th>4</th>\n",
       "      <td>94</td>\n",
       "      <td>632</td>\n",
       "      <td>34</td>\n",
       "      <td>TYPE_C</td>\n",
       "      <td>3.6</td>\n",
       "    </tr>\n",
       "  </tbody>\n",
       "</table>\n",
       "</div>"
      ],
      "text/plain": [
       "   center_id  city_code  region_code center_type  op_area\n",
       "0         11        679           56      TYPE_A      3.7\n",
       "1         13        590           56      TYPE_B      6.7\n",
       "2        124        590           56      TYPE_C      4.0\n",
       "3         66        648           34      TYPE_A      4.1\n",
       "4         94        632           34      TYPE_C      3.6"
      ]
     },
     "execution_count": 7,
     "metadata": {},
     "output_type": "execute_result"
    }
   ],
   "source": [
    "center_info.head()"
   ]
  },
  {
   "cell_type": "code",
   "execution_count": 8,
   "metadata": {},
   "outputs": [
    {
     "data": {
      "text/html": [
       "<div>\n",
       "<style scoped>\n",
       "    .dataframe tbody tr th:only-of-type {\n",
       "        vertical-align: middle;\n",
       "    }\n",
       "\n",
       "    .dataframe tbody tr th {\n",
       "        vertical-align: top;\n",
       "    }\n",
       "\n",
       "    .dataframe thead th {\n",
       "        text-align: right;\n",
       "    }\n",
       "</style>\n",
       "<table border=\"1\" class=\"dataframe\">\n",
       "  <thead>\n",
       "    <tr style=\"text-align: right;\">\n",
       "      <th></th>\n",
       "      <th>meal_id</th>\n",
       "      <th>category</th>\n",
       "      <th>cuisine</th>\n",
       "    </tr>\n",
       "  </thead>\n",
       "  <tbody>\n",
       "    <tr>\n",
       "      <th>0</th>\n",
       "      <td>1885</td>\n",
       "      <td>Beverages</td>\n",
       "      <td>Thai</td>\n",
       "    </tr>\n",
       "    <tr>\n",
       "      <th>1</th>\n",
       "      <td>1993</td>\n",
       "      <td>Beverages</td>\n",
       "      <td>Thai</td>\n",
       "    </tr>\n",
       "    <tr>\n",
       "      <th>2</th>\n",
       "      <td>2539</td>\n",
       "      <td>Beverages</td>\n",
       "      <td>Thai</td>\n",
       "    </tr>\n",
       "    <tr>\n",
       "      <th>3</th>\n",
       "      <td>1248</td>\n",
       "      <td>Beverages</td>\n",
       "      <td>Indian</td>\n",
       "    </tr>\n",
       "    <tr>\n",
       "      <th>4</th>\n",
       "      <td>2631</td>\n",
       "      <td>Beverages</td>\n",
       "      <td>Indian</td>\n",
       "    </tr>\n",
       "  </tbody>\n",
       "</table>\n",
       "</div>"
      ],
      "text/plain": [
       "   meal_id   category cuisine\n",
       "0     1885  Beverages    Thai\n",
       "1     1993  Beverages    Thai\n",
       "2     2539  Beverages    Thai\n",
       "3     1248  Beverages  Indian\n",
       "4     2631  Beverages  Indian"
      ]
     },
     "execution_count": 8,
     "metadata": {},
     "output_type": "execute_result"
    }
   ],
   "source": [
    "meal_info.head()"
   ]
  },
  {
   "cell_type": "markdown",
   "metadata": {},
   "source": [
    "Combine the train data with center info and meal info."
   ]
  },
  {
   "cell_type": "code",
   "execution_count": 9,
   "metadata": {},
   "outputs": [],
   "source": [
    "y = train['num_orders']\n",
    "combine = pd.concat([train,test])\n",
    "combine = combine.merge(center_info,on=['center_id'],how='left')\n",
    "combine = combine.merge(meal_info,on=['meal_id'],how='left')"
   ]
  },
  {
   "cell_type": "code",
   "execution_count": 10,
   "metadata": {},
   "outputs": [
    {
     "data": {
      "text/plain": [
       "(489121, 15)"
      ]
     },
     "execution_count": 10,
     "metadata": {},
     "output_type": "execute_result"
    }
   ],
   "source": [
    "combine.shape"
   ]
  },
  {
   "cell_type": "code",
   "execution_count": 11,
   "metadata": {},
   "outputs": [
    {
     "data": {
      "text/html": [
       "<div>\n",
       "<style scoped>\n",
       "    .dataframe tbody tr th:only-of-type {\n",
       "        vertical-align: middle;\n",
       "    }\n",
       "\n",
       "    .dataframe tbody tr th {\n",
       "        vertical-align: top;\n",
       "    }\n",
       "\n",
       "    .dataframe thead th {\n",
       "        text-align: right;\n",
       "    }\n",
       "</style>\n",
       "<table border=\"1\" class=\"dataframe\">\n",
       "  <thead>\n",
       "    <tr style=\"text-align: right;\">\n",
       "      <th></th>\n",
       "      <th>missing_total</th>\n",
       "      <th>missing_percent</th>\n",
       "      <th>unique_values</th>\n",
       "    </tr>\n",
       "  </thead>\n",
       "  <tbody>\n",
       "    <tr>\n",
       "      <th>base_price</th>\n",
       "      <td>0</td>\n",
       "      <td>0.000000</td>\n",
       "      <td>1931</td>\n",
       "    </tr>\n",
       "    <tr>\n",
       "      <th>center_id</th>\n",
       "      <td>0</td>\n",
       "      <td>0.000000</td>\n",
       "      <td>77</td>\n",
       "    </tr>\n",
       "    <tr>\n",
       "      <th>checkout_price</th>\n",
       "      <td>0</td>\n",
       "      <td>0.000000</td>\n",
       "      <td>1995</td>\n",
       "    </tr>\n",
       "    <tr>\n",
       "      <th>emailer_for_promotion</th>\n",
       "      <td>0</td>\n",
       "      <td>0.000000</td>\n",
       "      <td>2</td>\n",
       "    </tr>\n",
       "    <tr>\n",
       "      <th>homepage_featured</th>\n",
       "      <td>0</td>\n",
       "      <td>0.000000</td>\n",
       "      <td>2</td>\n",
       "    </tr>\n",
       "    <tr>\n",
       "      <th>id</th>\n",
       "      <td>0</td>\n",
       "      <td>0.000000</td>\n",
       "      <td>489121</td>\n",
       "    </tr>\n",
       "    <tr>\n",
       "      <th>meal_id</th>\n",
       "      <td>0</td>\n",
       "      <td>0.000000</td>\n",
       "      <td>51</td>\n",
       "    </tr>\n",
       "    <tr>\n",
       "      <th>num_orders</th>\n",
       "      <td>32573</td>\n",
       "      <td>0.066595</td>\n",
       "      <td>1250</td>\n",
       "    </tr>\n",
       "    <tr>\n",
       "      <th>week</th>\n",
       "      <td>0</td>\n",
       "      <td>0.000000</td>\n",
       "      <td>155</td>\n",
       "    </tr>\n",
       "    <tr>\n",
       "      <th>city_code</th>\n",
       "      <td>0</td>\n",
       "      <td>0.000000</td>\n",
       "      <td>51</td>\n",
       "    </tr>\n",
       "    <tr>\n",
       "      <th>region_code</th>\n",
       "      <td>0</td>\n",
       "      <td>0.000000</td>\n",
       "      <td>8</td>\n",
       "    </tr>\n",
       "    <tr>\n",
       "      <th>center_type</th>\n",
       "      <td>0</td>\n",
       "      <td>0.000000</td>\n",
       "      <td>3</td>\n",
       "    </tr>\n",
       "    <tr>\n",
       "      <th>op_area</th>\n",
       "      <td>0</td>\n",
       "      <td>0.000000</td>\n",
       "      <td>30</td>\n",
       "    </tr>\n",
       "    <tr>\n",
       "      <th>category</th>\n",
       "      <td>0</td>\n",
       "      <td>0.000000</td>\n",
       "      <td>14</td>\n",
       "    </tr>\n",
       "    <tr>\n",
       "      <th>cuisine</th>\n",
       "      <td>0</td>\n",
       "      <td>0.000000</td>\n",
       "      <td>4</td>\n",
       "    </tr>\n",
       "  </tbody>\n",
       "</table>\n",
       "</div>"
      ],
      "text/plain": [
       "                       missing_total  missing_percent  unique_values\n",
       "base_price                         0         0.000000           1931\n",
       "center_id                          0         0.000000             77\n",
       "checkout_price                     0         0.000000           1995\n",
       "emailer_for_promotion              0         0.000000              2\n",
       "homepage_featured                  0         0.000000              2\n",
       "id                                 0         0.000000         489121\n",
       "meal_id                            0         0.000000             51\n",
       "num_orders                     32573         0.066595           1250\n",
       "week                               0         0.000000            155\n",
       "city_code                          0         0.000000             51\n",
       "region_code                        0         0.000000              8\n",
       "center_type                        0         0.000000              3\n",
       "op_area                            0         0.000000             30\n",
       "category                           0         0.000000             14\n",
       "cuisine                            0         0.000000              4"
      ]
     },
     "execution_count": 11,
     "metadata": {},
     "output_type": "execute_result"
    }
   ],
   "source": [
    "na_percent = combine.isnull().sum(axis=0)/combine.shape[0]\n",
    "na_total = combine.isnull().sum()\n",
    "unique_values = combine.apply(lambda x: x.nunique())\n",
    "\n",
    "pd.concat([na_total,na_percent,unique_values], axis=1).rename(columns={0:'missing_total',1:'missing_percent',2:'unique_values'})"
   ]
  },
  {
   "cell_type": "markdown",
   "metadata": {},
   "source": [
    "### Feature Engineering"
   ]
  },
  {
   "cell_type": "markdown",
   "metadata": {},
   "source": [
    "#### Create new variables: \n",
    "\n",
    "average number of orders for each center and meal combined category\n",
    "average number of orders for each center\n",
    "average number of orders for each type of meal"
   ]
  },
  {
   "cell_type": "code",
   "execution_count": 12,
   "metadata": {},
   "outputs": [],
   "source": [
    "combine['mean_center_meal'] = combine.groupby(['center_id','meal_id'])['num_orders'].transform('mean')\n",
    "combine['mean_center'] = combine.groupby(['center_id'])['num_orders'].transform('mean')\n",
    "combine['mean_meal'] = combine.groupby(['meal_id'])['num_orders'].transform('mean')"
   ]
  },
  {
   "cell_type": "markdown",
   "metadata": {},
   "source": [
    "transform week to day of the week and calculate related variables\n"
   ]
  },
  {
   "cell_type": "code",
   "execution_count": 13,
   "metadata": {},
   "outputs": [],
   "source": [
    "combine['week_no'] = combine['week'].apply(lambda x: x%7)\n",
    "combine['week_center'] = combine.groupby(['center_id','week_no'])['num_orders'].transform('mean')\n",
    "combine['week_meal'] = combine.groupby(['meal_id','week_no'])['num_orders'].transform('mean')\n",
    "combine['mean_week'] = combine.groupby(['week_no'])['num_orders'].transform('mean')"
   ]
  },
  {
   "cell_type": "code",
   "execution_count": 14,
   "metadata": {},
   "outputs": [],
   "source": [
    "combine['discount'] = combine['checkout_price']/combine['base_price']"
   ]
  },
  {
   "cell_type": "code",
   "execution_count": 15,
   "metadata": {},
   "outputs": [
    {
     "data": {
      "text/html": [
       "<div>\n",
       "<style scoped>\n",
       "    .dataframe tbody tr th:only-of-type {\n",
       "        vertical-align: middle;\n",
       "    }\n",
       "\n",
       "    .dataframe tbody tr th {\n",
       "        vertical-align: top;\n",
       "    }\n",
       "\n",
       "    .dataframe thead th {\n",
       "        text-align: right;\n",
       "    }\n",
       "</style>\n",
       "<table border=\"1\" class=\"dataframe\">\n",
       "  <thead>\n",
       "    <tr style=\"text-align: right;\">\n",
       "      <th></th>\n",
       "      <th>base_price</th>\n",
       "      <th>center_id</th>\n",
       "      <th>checkout_price</th>\n",
       "      <th>emailer_for_promotion</th>\n",
       "      <th>homepage_featured</th>\n",
       "      <th>id</th>\n",
       "      <th>meal_id</th>\n",
       "      <th>num_orders</th>\n",
       "      <th>week</th>\n",
       "      <th>city_code</th>\n",
       "      <th>...</th>\n",
       "      <th>category</th>\n",
       "      <th>cuisine</th>\n",
       "      <th>mean_center_meal</th>\n",
       "      <th>mean_center</th>\n",
       "      <th>mean_meal</th>\n",
       "      <th>week_no</th>\n",
       "      <th>week_center</th>\n",
       "      <th>week_meal</th>\n",
       "      <th>mean_week</th>\n",
       "      <th>discount</th>\n",
       "    </tr>\n",
       "  </thead>\n",
       "  <tbody>\n",
       "    <tr>\n",
       "      <th>0</th>\n",
       "      <td>152.29</td>\n",
       "      <td>55</td>\n",
       "      <td>136.83</td>\n",
       "      <td>0</td>\n",
       "      <td>0</td>\n",
       "      <td>1379560</td>\n",
       "      <td>1885</td>\n",
       "      <td>177.0</td>\n",
       "      <td>1</td>\n",
       "      <td>647</td>\n",
       "      <td>...</td>\n",
       "      <td>Beverages</td>\n",
       "      <td>Thai</td>\n",
       "      <td>230.324138</td>\n",
       "      <td>163.475709</td>\n",
       "      <td>752.456365</td>\n",
       "      <td>1</td>\n",
       "      <td>160.357616</td>\n",
       "      <td>773.699875</td>\n",
       "      <td>257.13581</td>\n",
       "      <td>0.898483</td>\n",
       "    </tr>\n",
       "    <tr>\n",
       "      <th>1</th>\n",
       "      <td>135.83</td>\n",
       "      <td>55</td>\n",
       "      <td>136.83</td>\n",
       "      <td>0</td>\n",
       "      <td>0</td>\n",
       "      <td>1466964</td>\n",
       "      <td>1993</td>\n",
       "      <td>270.0</td>\n",
       "      <td>1</td>\n",
       "      <td>647</td>\n",
       "      <td>...</td>\n",
       "      <td>Beverages</td>\n",
       "      <td>Thai</td>\n",
       "      <td>246.972414</td>\n",
       "      <td>163.475709</td>\n",
       "      <td>598.853544</td>\n",
       "      <td>1</td>\n",
       "      <td>160.357616</td>\n",
       "      <td>625.334369</td>\n",
       "      <td>257.13581</td>\n",
       "      <td>1.007362</td>\n",
       "    </tr>\n",
       "    <tr>\n",
       "      <th>2</th>\n",
       "      <td>135.86</td>\n",
       "      <td>55</td>\n",
       "      <td>134.86</td>\n",
       "      <td>0</td>\n",
       "      <td>0</td>\n",
       "      <td>1346989</td>\n",
       "      <td>2539</td>\n",
       "      <td>189.0</td>\n",
       "      <td>1</td>\n",
       "      <td>647</td>\n",
       "      <td>...</td>\n",
       "      <td>Beverages</td>\n",
       "      <td>Thai</td>\n",
       "      <td>190.555556</td>\n",
       "      <td>163.475709</td>\n",
       "      <td>309.494594</td>\n",
       "      <td>1</td>\n",
       "      <td>160.357616</td>\n",
       "      <td>320.301514</td>\n",
       "      <td>257.13581</td>\n",
       "      <td>0.992639</td>\n",
       "    </tr>\n",
       "    <tr>\n",
       "      <th>3</th>\n",
       "      <td>437.53</td>\n",
       "      <td>55</td>\n",
       "      <td>339.50</td>\n",
       "      <td>0</td>\n",
       "      <td>0</td>\n",
       "      <td>1338232</td>\n",
       "      <td>2139</td>\n",
       "      <td>54.0</td>\n",
       "      <td>1</td>\n",
       "      <td>647</td>\n",
       "      <td>...</td>\n",
       "      <td>Beverages</td>\n",
       "      <td>Indian</td>\n",
       "      <td>21.792079</td>\n",
       "      <td>163.475709</td>\n",
       "      <td>42.813462</td>\n",
       "      <td>1</td>\n",
       "      <td>160.357616</td>\n",
       "      <td>44.336711</td>\n",
       "      <td>257.13581</td>\n",
       "      <td>0.775947</td>\n",
       "    </tr>\n",
       "    <tr>\n",
       "      <th>4</th>\n",
       "      <td>242.50</td>\n",
       "      <td>55</td>\n",
       "      <td>243.50</td>\n",
       "      <td>0</td>\n",
       "      <td>0</td>\n",
       "      <td>1448490</td>\n",
       "      <td>2631</td>\n",
       "      <td>40.0</td>\n",
       "      <td>1</td>\n",
       "      <td>647</td>\n",
       "      <td>...</td>\n",
       "      <td>Beverages</td>\n",
       "      <td>Indian</td>\n",
       "      <td>55.589147</td>\n",
       "      <td>163.475709</td>\n",
       "      <td>104.239051</td>\n",
       "      <td>1</td>\n",
       "      <td>160.357616</td>\n",
       "      <td>110.064559</td>\n",
       "      <td>257.13581</td>\n",
       "      <td>1.004124</td>\n",
       "    </tr>\n",
       "  </tbody>\n",
       "</table>\n",
       "<p>5 rows × 23 columns</p>\n",
       "</div>"
      ],
      "text/plain": [
       "   base_price  center_id  checkout_price  emailer_for_promotion  \\\n",
       "0      152.29         55          136.83                      0   \n",
       "1      135.83         55          136.83                      0   \n",
       "2      135.86         55          134.86                      0   \n",
       "3      437.53         55          339.50                      0   \n",
       "4      242.50         55          243.50                      0   \n",
       "\n",
       "   homepage_featured       id  meal_id  num_orders  week  city_code    ...     \\\n",
       "0                  0  1379560     1885       177.0     1        647    ...      \n",
       "1                  0  1466964     1993       270.0     1        647    ...      \n",
       "2                  0  1346989     2539       189.0     1        647    ...      \n",
       "3                  0  1338232     2139        54.0     1        647    ...      \n",
       "4                  0  1448490     2631        40.0     1        647    ...      \n",
       "\n",
       "    category cuisine  mean_center_meal mean_center   mean_meal  week_no  \\\n",
       "0  Beverages    Thai        230.324138  163.475709  752.456365        1   \n",
       "1  Beverages    Thai        246.972414  163.475709  598.853544        1   \n",
       "2  Beverages    Thai        190.555556  163.475709  309.494594        1   \n",
       "3  Beverages  Indian         21.792079  163.475709   42.813462        1   \n",
       "4  Beverages  Indian         55.589147  163.475709  104.239051        1   \n",
       "\n",
       "   week_center   week_meal  mean_week  discount  \n",
       "0   160.357616  773.699875  257.13581  0.898483  \n",
       "1   160.357616  625.334369  257.13581  1.007362  \n",
       "2   160.357616  320.301514  257.13581  0.992639  \n",
       "3   160.357616   44.336711  257.13581  0.775947  \n",
       "4   160.357616  110.064559  257.13581  1.004124  \n",
       "\n",
       "[5 rows x 23 columns]"
      ]
     },
     "execution_count": 15,
     "metadata": {},
     "output_type": "execute_result"
    }
   ],
   "source": [
    "combine.head()"
   ]
  },
  {
   "cell_type": "code",
   "execution_count": 16,
   "metadata": {},
   "outputs": [],
   "source": [
    "combine['mean_center_meal'].fillna(0,inplace=True)"
   ]
  },
  {
   "cell_type": "code",
   "execution_count": 17,
   "metadata": {},
   "outputs": [
    {
     "data": {
      "text/plain": [
       "base_price                   0\n",
       "center_id                    0\n",
       "checkout_price               0\n",
       "emailer_for_promotion        0\n",
       "homepage_featured            0\n",
       "id                           0\n",
       "meal_id                      0\n",
       "num_orders               32573\n",
       "week                         0\n",
       "city_code                    0\n",
       "region_code                  0\n",
       "center_type                  0\n",
       "op_area                      0\n",
       "category                     0\n",
       "cuisine                      0\n",
       "mean_center_meal             0\n",
       "mean_center                  0\n",
       "mean_meal                    0\n",
       "week_no                      0\n",
       "week_center                  0\n",
       "week_meal                    0\n",
       "mean_week                    0\n",
       "discount                     0\n",
       "dtype: int64"
      ]
     },
     "execution_count": 17,
     "metadata": {},
     "output_type": "execute_result"
    }
   ],
   "source": [
    "combine.isna().sum()"
   ]
  },
  {
   "cell_type": "markdown",
   "metadata": {},
   "source": [
    "#### Label encoding categorical variable"
   ]
  },
  {
   "cell_type": "code",
   "execution_count": 18,
   "metadata": {},
   "outputs": [],
   "source": [
    "cols = ['category','center_type','cuisine']\n",
    "\n",
    "for c in cols:\n",
    "    lbl = LabelEncoder() \n",
    "    lbl.fit(list(combine[c].values)) \n",
    "    combine[c] = lbl.transform(list(combine[c].values))"
   ]
  },
  {
   "cell_type": "code",
   "execution_count": 19,
   "metadata": {},
   "outputs": [],
   "source": [
    "combine.drop(['id','num_orders'],axis=1,inplace=True)"
   ]
  },
  {
   "cell_type": "markdown",
   "metadata": {},
   "source": [
    "### Log-transformation of the target variable"
   ]
  },
  {
   "cell_type": "code",
   "execution_count": 20,
   "metadata": {},
   "outputs": [
    {
     "name": "stdout",
     "output_type": "stream",
     "text": [
      "\n",
      " mu = 261.87 and sigma = 395.92\n",
      "\n"
     ]
    },
    {
     "data": {
      "image/png": "[encoded data removed]",
      "text/plain": [
       "<Figure size 432x288 with 1 Axes>"
      ]
     },
     "metadata": {},
     "output_type": "display_data"
    },
    {
     "data": {
      "image/png": "[encoded data removed]",
      "text/plain": [
       "<Figure size 432x288 with 1 Axes>"
      ]
     },
     "metadata": {},
     "output_type": "display_data"
    }
   ],
   "source": [
    "sns.distplot(y, fit=norm);\n",
    "\n",
    "# Get the fitted parameters used by the function\n",
    "(mu, sigma) = norm.fit(y)\n",
    "print( '\\n mu = {:.2f} and sigma = {:.2f}\\n'.format(mu, sigma))\n",
    "\n",
    "#Now plot the distribution\n",
    "plt.legend(['Normal dist. ($\\mu=$ {:.2f} and $\\sigma=$ {:.2f} )'.format(mu, sigma)],\n",
    "            loc='best')\n",
    "plt.ylabel('Frequency')\n",
    "plt.title('num_orders distribution')\n",
    "\n",
    "#Get also the QQ-plot\n",
    "fig = plt.figure()\n",
    "res = stats.probplot(y, plot=plt)\n",
    "plt.show()"
   ]
  },
  {
   "cell_type": "code",
   "execution_count": 21,
   "metadata": {},
   "outputs": [
    {
     "name": "stdout",
     "output_type": "stream",
     "text": [
      "\n",
      " mu = 4.89 and sigma = 1.20\n",
      "\n"
     ]
    },
    {
     "data": {
      "image/png": "[encoded data removed]",
      "text/plain": [
       "<Figure size 432x288 with 1 Axes>"
      ]
     },
     "metadata": {},
     "output_type": "display_data"
    },
    {
     "data": {
      "image/png": "[encoded data removed]",
      "text/plain": [
       "<Figure size 432x288 with 1 Axes>"
      ]
     },
     "metadata": {},
     "output_type": "display_data"
    }
   ],
   "source": [
    "#We use the numpy fuction log1p which  applies log(1+x) to all elements of the column\n",
    "y = np.log1p(y)\n",
    "\n",
    "#Check the new distribution \n",
    "sns.distplot(y, fit=norm);\n",
    "\n",
    "# Get the fitted parameters used by the function\n",
    "(mu, sigma) = norm.fit(y)\n",
    "print( '\\n mu = {:.2f} and sigma = {:.2f}\\n'.format(mu, sigma))\n",
    "\n",
    "#Now plot the distribution\n",
    "plt.legend(['Normal dist. ($\\mu=$ {:.2f} and $\\sigma=$ {:.2f} )'.format(mu, sigma)],\n",
    "            loc='best')\n",
    "plt.ylabel('Frequency')\n",
    "plt.title('num_orders distribution')\n",
    "\n",
    "#Get also the QQ-plot\n",
    "fig = plt.figure()\n",
    "res = stats.probplot(y, plot=plt)\n",
    "plt.show()"
   ]
  },
  {
   "cell_type": "markdown",
   "metadata": {},
   "source": [
    "### Modeling\n",
    "\n",
    "To simulate the real test data, we use the last 10 week as cross-validation set\n",
    "\n",
    "### Base models\n",
    "\n",
    "XGBoost: label encoding vs. one-hot-encoding\n",
    "\n",
    "LightGBM"
   ]
  },
  {
   "cell_type": "code",
   "execution_count": 26,
   "metadata": {},
   "outputs": [],
   "source": [
    "def rmse(x,y): return math.sqrt(((x-y)**2).mean())\n",
    "\n",
    "def print_score(m, X_train,y_train,X_valid,y_valid):\n",
    "    res = [rmse(m.predict(X_train), y_train), rmse(m.predict(X_valid), y_valid),\n",
    "                m.score(X_train, y_train), m.score(X_valid, y_valid)]\n",
    "    if hasattr(m, 'oob_score_'): \n",
    "        res.append(m.oob_score_)\n",
    "    print(res)"
   ]
  },
  {
   "cell_type": "code",
   "execution_count": 23,
   "metadata": {},
   "outputs": [],
   "source": [
    "model_xgb = xgb.XGBRegressor(max_depth=8,learning_rate=0.1,n_estimators=100,n_jobs=-1)\n",
    "model_lgb = lgb.LGBMRegressor(objective='regression',num_leaves=5,\n",
    "                              learning_rate=0.05, n_estimators=720,\n",
    "                              max_bin = 55, bagging_fraction = 0.8,\n",
    "                              bagging_freq = 5, feature_fraction = 0.2319,\n",
    "                              feature_fraction_seed=9, bagging_seed=9,\n",
    "                              min_data_in_leaf =6, min_sum_hessian_in_leaf = 11)"
   ]
  },
  {
   "cell_type": "code",
   "execution_count": 28,
   "metadata": {},
   "outputs": [],
   "source": [
    "def lgb_modeling(combine,y,n):\n",
    "    cat_cols = ('week_no','center_id','meal_id','city_code','region_code','category','center_type','cuisine')\n",
    "\n",
    "    for c in cat_cols:\n",
    "        combine[c] = combine[c].astype('category')\n",
    "        \n",
    "    train = combine.iloc[:n]\n",
    "    test = combine.iloc[n:]\n",
    "    \n",
    "    val_idx = train.index[(train['week']>135) & (train['week']<146)].tolist()\n",
    "    trn_idx = train.index[(train['week']<136)].tolist()\n",
    "    \n",
    "    train.drop(['week'],axis=1,inplace=True)\n",
    "    test.drop(['week'],axis=1,inplace=True)\n",
    "    \n",
    "    X_train, y_train = train.iloc[trn_idx],y[trn_idx]\n",
    "    X_valid, y_valid = train.iloc[val_idx],y[val_idx]\n",
    "    \n",
    "    model_lgb.fit(X_train.values, y_train)\n",
    "    print_score(model_lgb,X_train,y_train,X_valid,y_valid)\n",
    "    "
   ]
  },
  {
   "cell_type": "code",
   "execution_count": 35,
   "metadata": {},
   "outputs": [],
   "source": [
    "def xgb_modeling(combine,y,n,encoding):\n",
    "            \n",
    "    if encoding=='one-hot':\n",
    "        \n",
    "        ONE_HOT_COLS = ['city_code','center_type', 'category', 'cuisine']\n",
    "\n",
    "        for col in ONE_HOT_COLS:\n",
    "            s = combine[col].unique()\n",
    "\n",
    "    # Create a One Hot Dataframe with 1 row for each unique value\n",
    "        one_hot_df = pd.get_dummies(s, prefix='%s_' % col)\n",
    "        one_hot_df[col] = s\n",
    "\n",
    "    \n",
    "        pre_len = len(combine)\n",
    "\n",
    "    # Merge the one hot columns\n",
    "        combine = combine.merge(one_hot_df, on=[col], how=\"left\")\n",
    "        assert len(combine) == pre_len\n",
    "        combine.drop(['center_id','meal_id','city_code','region_code','category','center_type','cuisine'],axis=1,inplace=True)\n",
    "        \n",
    "        train = combine.iloc[:n]\n",
    "        test = combine.iloc[n:]\n",
    "    \n",
    "        val_idx = train.index[(train['week']>135) & (train['week']<146)].tolist()\n",
    "        trn_idx = train.index[(train['week']<136)].tolist()\n",
    "    \n",
    "        train.drop(['week'],axis=1,inplace=True)\n",
    "        test.drop(['week'],axis=1,inplace=True)\n",
    "    \n",
    "        X_train, y_train = train.iloc[trn_idx],y[trn_idx]\n",
    "        X_valid, y_valid = train.iloc[val_idx],y[val_idx]\n",
    "    \n",
    "        model_xgb.fit(X_train.values, y_train)\n",
    "        print_score(model_xgb,X_train.values,y_train,X_valid.values,y_valid)\n",
    "    else:\n",
    "        train = combine.iloc[:n]\n",
    "        test = combine.iloc[n:]\n",
    "    \n",
    "        val_idx = train.index[(train['week']>135) & (train['week']<146)].tolist()\n",
    "        trn_idx = train.index[(train['week']<136)].tolist()\n",
    "    \n",
    "        train.drop(['week'],axis=1,inplace=True)\n",
    "        test.drop(['week'],axis=1,inplace=True)\n",
    "    \n",
    "        X_train, y_train = train.iloc[trn_idx],y[trn_idx]\n",
    "        X_valid, y_valid = train.iloc[val_idx],y[val_idx]\n",
    "    \n",
    "        model_xgb.fit(X_train.values, y_train)\n",
    "        print_score(model_xgb,X_train.values,y_train,X_valid.values,y_valid)"
   ]
  },
  {
   "cell_type": "code",
   "execution_count": 29,
   "metadata": {},
   "outputs": [
    {
     "name": "stdout",
     "output_type": "stream",
     "text": [
      "[0.5298613413270468, 0.5509636621001676, 0.8073280720720342, 0.7701184074582667]\n"
     ]
    }
   ],
   "source": [
    "lgb_modeling(combine,y,len(train))"
   ]
  },
  {
   "cell_type": "code",
   "execution_count": 34,
   "metadata": {},
   "outputs": [
    {
     "name": "stdout",
     "output_type": "stream",
     "text": [
      "[0.4678904336700623, 0.502142939845699, 0.8497611309674206, 0.809052926958811]\n"
     ]
    }
   ],
   "source": [
    "xgb_modeling(combine,y,len(train),'label encoder')"
   ]
  },
  {
   "cell_type": "code",
   "execution_count": 36,
   "metadata": {},
   "outputs": [
    {
     "name": "stdout",
     "output_type": "stream",
     "text": [
      "[0.47178631439957325, 0.506610191255511, 0.8472487927363181, 0.8056403411990635]\n"
     ]
    }
   ],
   "source": [
    "xgb_modeling(combine,y,len(train),'one-hot')"
   ]
  },
  {
   "cell_type": "markdown",
   "metadata": {},
   "source": [
    "There is no over-fitting problem with the model. XGBoost with tranforming categorical variable into numeric (ordered) performed the best and therefore selected to be the final submitted model."
   ]
  }
 ],
 "metadata": {
  "kernelspec": {
   "display_name": "Python 3",
   "language": "python",
   "name": "python3"
  },
  "language_info": {
   "codemirror_mode": {
    "name": "ipython",
    "version": 3
   },
   "file_extension": ".py",
   "mimetype": "text/x-python",
   "name": "python",
   "nbconvert_exporter": "python",
   "pygments_lexer": "ipython3",
   "version": "3.6.3"
  }
 },
 "nbformat": 4,
 "nbformat_minor": 2
}
